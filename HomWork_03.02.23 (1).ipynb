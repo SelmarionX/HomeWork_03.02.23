{
 "cells": [
  {
   "cell_type": "markdown",
   "id": "e5685d9b",
   "metadata": {},
   "source": [
    "f(x) = -5*x**2 + 10*x - 150 \n",
    "\n",
    "Определить корни\n",
    "\n",
    "Найти интервалы, на которых функция возрастает\n",
    "\n",
    "Найти интервалы, на которых функция убывает\n",
    "\n",
    "Построить график\n",
    "\n",
    "Вычислить вершину\n",
    "\n",
    "Определить промежутки, на котором f > 0\n",
    "\n",
    "Определить промежутки, на котором f < 0"
   ]
  },
  {
   "cell_type": "code",
   "execution_count": 1,
   "id": "327d6040",
   "metadata": {},
   "outputs": [],
   "source": [
    "from sympy import *\n",
    "from sympy.plotting import plot"
   ]
  },
  {
   "cell_type": "code",
   "execution_count": 2,
   "id": "f50f2c28",
   "metadata": {},
   "outputs": [],
   "source": [
    "x = Symbol(\"x\")"
   ]
  },
  {
   "cell_type": "code",
   "execution_count": 3,
   "id": "5db7524e",
   "metadata": {},
   "outputs": [
    {
     "data": {
      "text/latex": [
       "$\\displaystyle - 5 x^{2} + 10 x - 150$"
      ],
      "text/plain": [
       "-5*x**2 + 10*x - 150"
      ]
     },
     "execution_count": 3,
     "metadata": {},
     "output_type": "execute_result"
    }
   ],
   "source": [
    "fx = -5*x**2 + 10*x - 150\n",
    "fx"
   ]
  },
  {
   "cell_type": "code",
   "execution_count": 4,
   "id": "a05bc0c4",
   "metadata": {},
   "outputs": [
    {
     "name": "stdout",
     "output_type": "stream",
     "text": [
      "   -150 |                         ...........                   \n",
      "        |                      ...           ...                \n",
      "        |                   ...                 ..              \n",
      "        |                  /                      ..            \n",
      "        |                ..                         \\           \n",
      "        |              ..                            ..         \n",
      "        |             /                                \\        \n",
      "        |            /                                  ..      \n",
      "        |           /                                     \\     \n",
      "        |          /                                       \\    \n",
      "   -450 |---------/-----------------------------------------\\---\n",
      "        |        /                                           \\  \n",
      "        |       /                                             \\ \n",
      "        |      /                                               \\\n",
      "        |     /                                                 \n",
      "        |    /                                                  \n",
      "        |   /                                                   \n",
      "        |  .                                                    \n",
      "        |                                                       \n",
      "        | .                                                     \n",
      "   -750 |_______________________________________________________\n",
      "         -10                        0                          10\n"
     ]
    },
    {
     "data": {
      "text/plain": [
       "<sympy.plotting.plot.Plot at 0x2f5b80e6410>"
      ]
     },
     "execution_count": 4,
     "metadata": {},
     "output_type": "execute_result"
    }
   ],
   "source": [
    "plot(fx)"
   ]
  },
  {
   "cell_type": "code",
   "execution_count": 5,
   "id": "dd2ac45e",
   "metadata": {},
   "outputs": [
    {
     "data": {
      "text/plain": [
       "(1.0 - 5.385*I, 1.0 + 5.385*I)"
      ]
     },
     "execution_count": 5,
     "metadata": {},
     "output_type": "execute_result"
    }
   ],
   "source": [
    "x1, x2 = solve(fx)\n",
    "(round(x1.evalf(),3), round(x2.evalf(),3))"
   ]
  },
  {
   "cell_type": "code",
   "execution_count": 6,
   "id": "1b5ec3dd",
   "metadata": {},
   "outputs": [
    {
     "data": {
      "text/latex": [
       "$\\displaystyle \\text{False}$"
      ],
      "text/plain": [
       "False"
      ]
     },
     "execution_count": 6,
     "metadata": {},
     "output_type": "execute_result"
    }
   ],
   "source": [
    "solve(fx>0)"
   ]
  },
  {
   "cell_type": "code",
   "execution_count": 7,
   "id": "4b46d5a7",
   "metadata": {},
   "outputs": [
    {
     "data": {
      "text/latex": [
       "$\\displaystyle -\\infty < x \\wedge x < \\infty$"
      ],
      "text/plain": [
       "(-oo < x) & (x < oo)"
      ]
     },
     "execution_count": 7,
     "metadata": {},
     "output_type": "execute_result"
    }
   ],
   "source": [
    "solve(fx<0)"
   ]
  },
  {
   "cell_type": "code",
   "execution_count": 8,
   "id": "9fa0c57f",
   "metadata": {},
   "outputs": [
    {
     "data": {
      "text/latex": [
       "$\\displaystyle 10 - 10 x$"
      ],
      "text/plain": [
       "10 - 10*x"
      ]
     },
     "execution_count": 8,
     "metadata": {},
     "output_type": "execute_result"
    }
   ],
   "source": [
    "diff(fx)"
   ]
  },
  {
   "cell_type": "code",
   "execution_count": 9,
   "id": "79f8025e",
   "metadata": {},
   "outputs": [
    {
     "name": "stdout",
     "output_type": "stream",
     "text": [
      "    110 |..                                                     \n",
      "        |  ...                                                  \n",
      "        |     ..                                                \n",
      "        |       ...                                             \n",
      "        |          ...                                          \n",
      "        |             ..                                        \n",
      "        |               ...                                     \n",
      "        |                  ...                                  \n",
      "        |                     ..                                \n",
      "        |                       ...                             \n",
      "     10 |--------------------------...--------------------------\n",
      "        |                             ...                       \n",
      "        |                                ..                     \n",
      "        |                                  ...                  \n",
      "        |                                     ...               \n",
      "        |                                        ..             \n",
      "        |                                          ...          \n",
      "        |                                             ...       \n",
      "        |                                                ..     \n",
      "        |                                                  ...  \n",
      "    -90 |_______________________________________________________\n",
      "         -10                        0                          10\n"
     ]
    },
    {
     "data": {
      "text/plain": [
       "<sympy.plotting.plot.Plot at 0x2f5b84a8f10>"
      ]
     },
     "execution_count": 9,
     "metadata": {},
     "output_type": "execute_result"
    }
   ],
   "source": [
    "plot(diff(fx))"
   ]
  },
  {
   "cell_type": "code",
   "execution_count": 10,
   "id": "d6ae529e",
   "metadata": {},
   "outputs": [
    {
     "data": {
      "text/plain": [
       "[1]"
      ]
     },
     "execution_count": 10,
     "metadata": {},
     "output_type": "execute_result"
    }
   ],
   "source": [
    "solve(diff(fx))"
   ]
  },
  {
   "cell_type": "code",
   "execution_count": 11,
   "id": "a821088d",
   "metadata": {},
   "outputs": [
    {
     "data": {
      "text/latex": [
       "$\\displaystyle 1 < x \\wedge x < \\infty$"
      ],
      "text/plain": [
       "(1 < x) & (x < oo)"
      ]
     },
     "execution_count": 11,
     "metadata": {},
     "output_type": "execute_result"
    }
   ],
   "source": [
    "solve(diff(fx) < 0)"
   ]
  },
  {
   "cell_type": "code",
   "execution_count": 12,
   "id": "f892a990",
   "metadata": {},
   "outputs": [
    {
     "data": {
      "text/latex": [
       "$\\displaystyle -\\infty < x \\wedge x < 1$"
      ],
      "text/plain": [
       "(-oo < x) & (x < 1)"
      ]
     },
     "execution_count": 12,
     "metadata": {},
     "output_type": "execute_result"
    }
   ],
   "source": [
    "solve(diff(fx) > 0)"
   ]
  },
  {
   "cell_type": "code",
   "execution_count": null,
   "id": "d963557e",
   "metadata": {},
   "outputs": [],
   "source": []
  }
 ],
 "metadata": {
  "kernelspec": {
   "display_name": "Python 3",
   "language": "python",
   "name": "python3"
  },
  "language_info": {
   "codemirror_mode": {
    "name": "ipython",
    "version": 3
   },
   "file_extension": ".py",
   "mimetype": "text/x-python",
   "name": "python",
   "nbconvert_exporter": "python",
   "pygments_lexer": "ipython3",
   "version": "3.10.6"
  },
  "vscode": {
   "interpreter": {
    "hash": "f3c5bf045d5047c0f00cfe2a5eb5fd13e5d63098e3da6354dfdacfff00d7c066"
   }
  }
 },
 "nbformat": 4,
 "nbformat_minor": 5
}
